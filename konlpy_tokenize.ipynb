{
 "cells": [
  {
   "cell_type": "code",
   "execution_count": 2,
   "metadata": {
    "collapsed": false
   },
   "outputs": [
    {
     "name": "stdout",
     "output_type": "stream",
     "text": [
      "['어릴때보고 지금다시봐도 재밌어요ㅋㅋ'\n '디자인을 배우는 학생으로, 외국디자이너와 그들이 일군 전통을 통해 발전해가는 문화산업이 부러웠는데. 사실 우리나라에서도 그 어려운시절에 끝까지 열정을 지킨 노라노 같은 전통이있어 저와 같은 사람들이 꿈을 꾸고 이뤄나갈 수 있다는 것에 감사합니다.'\n '폴리스스토리 시리즈는 1부터 뉴까지 버릴께 하나도 없음.. 최고.'\n '와.. 연기가 진짜 개쩔구나.. 지루할거라고 생각했는데 몰입해서 봤다.. 그래 이런게 진짜 영화지'\n '안개 자욱한 밤하늘에 떠 있는 초승달 같은 영화.' '사랑을 해본사람이라면 처음부터 끝까지 웃을수 있는영화'\n '완전 감동입니다 다시봐도 감동' '개들의 전쟁2 나오나요? 나오면 1빠로 보고 싶음' '굿' '바보가 아니라 병 쉰 인듯']\n\n어릴때보고 지금다시봐도 재밌어요ㅋㅋ 디자인을 배우는 학생으로, 외국디자이너와 그들이 일군 전통을 통해 발전해가는 문화산업이 부러웠는데. 사실 우리나라에서도 그 어려운시절에 끝까지 열정을 지킨 노라노 같은 전통이있어 저와 같은 사람들이 꿈을 꾸고 이뤄나갈 수 있다는 것에 감사합니다. 폴리스스토리 시리즈는 1부터 뉴까지 버릴께 하나도 없음.. 최고. 와.. 연기가 진짜 개쩔구나.. 지루할거라고 생각했는데 몰입해서 봤다.. 그래 이런게 진짜 영화지 안개 자욱한 밤하늘에 떠 있는 초승달 같은 영화. 사랑을 해본사람이라면 처음부터 끝까지 웃을수 있는영화 완전 감동입니다 다시봐도 감동 개들의 전쟁2 나오나요? 나오면 1빠로 보고 싶음 굿 바보가 아니라 병 쉰 인듯 내 나이와 같은 영화를 지금 본 나는 감동적이다..하지만 훗날 다시보면대사하나하나 그 감정을완벽하게 이해할것만 같다... 재밌다 고질라니무 귀엽다능ㅋㅋ 영화의 오페라화라고 해야할 작품. 극단적 평갈림은 어쩔 수 없는 듯. 3도 반전 좋았제 ^^ 평점 왜 낮아? 긴장감 스릴감 진짜 최고인데 진짜 전장에서 느끼는 공포를 생생하게 전해준다. 네고시에이터랑 소재만 같을 뿐.. 아무런 관련없음.. 단연 최고 가면 갈수록 더욱 빠져드네요 밀회 화이팅!! 어?생각없이 봤는데 상당한 수작.일본영화 10년내 최고로 마음에 들었다.강렬한 임팩트가 일품. 오랜만에 본 제대로 된 범죄스릴러~ 그런 때가 있었다. ('사랑해'도 아니고) 그저 좋아한다는 한 마디 말을 꺼내기도 벅차서 밤 잠 설치던 때. 커징텅의 교복에 남은 션자이의 볼펜 자국 역시 미처 다 전하지 못한 마음의 형태인 거다. 마지막씬을 잊을수가 없다 강압적용서,세뇌적용서에 대한 비판 중세시대명작. 굿 평점이왜이래 7시간짜리 영상이 존재한다면, 죽기전에 꼭 한번 보고싶다. 아름답고 슬픈 OST, 제니퍼코넬리의 눈부신 아역시절, 로버트드니로의 마지막 웃는 장면까지 정말 가슴속에 영원히 기억될 최고의 명작이다. 사람이 어떻게 저런짓을 할 수가 있는지ㅡㅡ 보는 내가 다 화나더라\n"
     ]
    }
   ],
   "source": [
    "import pandas as pd\n",
    "\n",
    "nsmc_total_data = pd.read_csv('ratings.txt', sep='\\t')\n",
    "\n",
    "sample_text_data_list = nsmc_total_data['document'].dropna().values\n",
    "sample_text_data = ' '.join(sample_text_data_list)\n",
    "\n",
    "print(sample_text_data_list[:10], end='\\n\\n')\n",
    "print(sample_text_data[:1000])"
   ]
  },
  {
   "cell_type": "code",
   "execution_count": 3,
   "metadata": {},
   "outputs": [
    {
     "name": "stdout",
     "output_type": "stream",
     "text": [
      "46009\t영화였다. 한 사람의 영향력과 음악이 많은\n129911\t당시 평론가들은 인터넷의 영향력이 없어서 막써댔네\n154923\t걸출한 스타를 배출한 영향력 있는 감독이기는\n323611\t가지는 그 힘과 영향력에 대한 도전을\n375093\t혹은 무의식적으로 정치,사회의 영향력을 제거한 일본의\n381413\t한사람이 지구에 끼치는 영향력에 대해서 생각\n409090\t타임지 선정 세계에서 영향력 있는 인물\n426134\t이 지구에서 가장 영향력있는 배우는 이소룡\n458848\t하지만 이 책의 영향력은 결코 가볍지\n524041\t하나로 꼽혔는데, 놀란의 영향력이 엄청 커져\n739802\t보며 사람의 좋은 영향력에 대해 느끼게\n860261\t수 있다. 배우의 영향력으로 높게 평가\n866469\t미시를 후벼파는 머슴들의 영향력은 여전하군. 예전에\n1155903\t우리나라 사람에게 그다지 영향력 있는 사람이\n1253677\t로비 받았나요 당신이 영향력이 대단하다 생각해서\n1309656\t부시 가문이 아무리 영향력이 크다고 해도\n1341489\t영화? 졸작일뿐. 홍콩영화계에서의 영향력은 상당한 듯\n1389791\t일본영화가 왜 아시아에서 영향력을 잃어가는 보여주는\n[46009, 129911, 154923, 323611, 375093, 381413, 409090, 426134, 458848, 524041, 739802, 860261, 866469, 1155903, 1253677, 1309656, 1341489, 1389791]\n"
     ]
    }
   ],
   "source": [
    "from konlpy.utils import concordance\n",
    "\n",
    "print(concordance('영향력', sample_text_data, show=True))"
   ]
  },
  {
   "cell_type": "code",
   "execution_count": 4,
   "metadata": {},
   "outputs": [
    {
     "name": "stdout",
     "output_type": "stream",
     "text": [
      "폴리스스토리 시리즈는 1부터 뉴까지 버릴께 하나도 없음.. 최고.\n"
     ]
    }
   ],
   "source": [
    "from nltk.tokenize import sent_tokenize\n",
    "\n",
    "sentence_list = sent_tokenize(sample_text_data)\n",
    "\n",
    "print(sentence_list[2])"
   ]
  },
  {
   "cell_type": "code",
   "execution_count": 6,
   "metadata": {},
   "outputs": [
    {
     "name": "stdout",
     "output_type": "stream",
     "text": [
      "폴리스스토리 시리즈는 1부터 뉴까지 버릴께 하나도 없음.. 최고.\n\n['폴리스', '스토리', '시리즈', '는', '1', '부터', '뉴', '까', '지', '버리', 'ㄹ게', '하나', '도', '없', '음', '..', '최고', '.']\n\n['폴리스', '폴리스스토리', '스토리', '시리즈', '1', '뉴', '하나', '최고']\n\n[('폴리스', 'NNG'), ('스토리', 'NNG'), ('시리즈', 'NNG'), ('는', 'JX'), ('1', 'NR'), ('부터', 'JX'), ('뉴', 'NNG'), ('까', 'VV'), ('지', 'ECD'), ('버리', 'VXV'), ('ㄹ게', 'EFN'), ('하나', 'NNG'), ('도', 'JX'), ('없', 'VA'), ('음', 'ETN'), ('..', 'SW'), ('최고', 'NNG'), ('.', 'SF')]\n\n[[('폴리스', 'NNG')], [('스토리', 'NNG')], [('시리즈', 'NNG'), ('는', 'JX')], [('1', 'NR'), ('부터', 'JX')], [('뉴', 'NNG')], [('까', 'VV'), ('지', 'ECD')], [('버리', 'VXV'), ('ㄹ게', 'EFN')], [('하나', 'NNG'), ('도', 'JX')], [('없', 'VA'), ('음', 'ETN'), ('..', 'SW')], [('최고', 'NNG'), ('.', 'SF')]]\n\n"
     ]
    },
    {
     "name": "stdout",
     "output_type": "stream",
     "text": [
      "['어릴 때보고 지금 다시 봐도 재밌어요', 'ㅋㅋ 디자인을 배우는 학생으로, 외국 디자이너와 그들이 일군 전통을 통해 발전해 가는 문화산업이 부러웠는데. 사실 우리나라에서도 그 어려운 시절에 끝까지 열정을 지킨 노라 노 같은 전통이 있어 저와 같은 사람들이 꿈을 꾸고 이뤄 나갈 수 있다는 것에 감사합니다.', '폴리스 스토리 시리즈는 1부터 뉴 까지 버릴께', '하나도 없음.. 최고.']\n"
     ]
    }
   ],
   "source": [
    "from konlpy.tag import Kkma\n",
    "\n",
    "kkma = Kkma()\n",
    "\n",
    "print(sentence_list[2], end='\\n\\n')\n",
    "print(kkma.morphs(sentence_list[2]), end='\\n\\n')\n",
    "print(kkma.nouns(sentence_list[2]), end='\\n\\n')\n",
    "print(kkma.pos(sentence_list[2], flatten=True), end='\\n\\n')\n",
    "print(kkma.pos(sentence_list[2], flatten=False), end='\\n\\n')\n",
    "print(kkma.sentences(' '.join(sentence_list[:3])))"
   ]
  },
  {
   "cell_type": "code",
   "execution_count": 7,
   "metadata": {},
   "outputs": [
    {
     "name": "stdout",
     "output_type": "stream",
     "text": [
      "폴리스스토리 시리즈는 1부터 뉴까지 버릴께 하나도 없음.. 최고.\n\n['폴리스', '스토리', '시리즈', '는', '1', '부터', '뉴', '까지', '버리', 'ㄹ께', '하나', '도', '없', '음', '.', '.', '최고', '.']\n\n['폴리스', '스토리', '시리즈', '뉴', '최고']\n\n[('폴리스', 'NNP'), ('스토리', 'NNP'), ('시리즈', 'NNP'), ('는', 'JX'), ('1', 'SN'), ('부터', 'JX'), ('뉴', 'NNG'), ('까지', 'JX'), ('버리', 'VX'), ('ㄹ께', 'EC'), ('하나', 'NR'), ('도', 'JX'), ('없', 'VA'), ('음', 'ETN'), ('.', 'SF'), ('.', 'SF'), ('최고', 'NNG'), ('.', 'SF')]\n\n[[('폴리스', 'NNP'), ('스토리', 'NNP'), ('시리즈', 'NNP'), ('는', 'JX'), ('1', 'SN'), ('부터', 'JX'), ('뉴', 'NNG'), ('까지', 'JX'), ('버리', 'VX'), ('ㄹ께', 'EC'), ('하나', 'NR'), ('도', 'JX'), ('없', 'VA'), ('음', 'ETN'), ('.', 'SF'), ('.', 'SF'), ('최고', 'NNG'), ('.', 'SF')]]\n"
     ]
    }
   ],
   "source": [
    "from konlpy.tag import Komoran\n",
    "\n",
    "komoran = Komoran()\n",
    "\n",
    "print(sentence_list[2], end='\\n\\n')\n",
    "print(komoran.morphs(sentence_list[2]), end='\\n\\n')\n",
    "print(komoran.nouns(sentence_list[2]), end='\\n\\n')\n",
    "print(komoran.pos(sentence_list[2]), end='\\n\\n')\n",
    "print(komoran.pos(sentence_list[2], flatten=False))"
   ]
  },
  {
   "cell_type": "code",
   "execution_count": 8,
   "metadata": {},
   "outputs": [
    {
     "name": "stdout",
     "output_type": "stream",
     "text": [
      "폴리스스토리 시리즈는 1부터 뉴까지 버릴께 하나도 없음.. 최고.\n\n"
     ]
    },
    {
     "name": "stdout",
     "output_type": "stream",
     "text": [
      "['폴리스스토리', '시리즈', '는', '1', '부터', '뉴', '까지', '버리', 'ㄹ께', '하', '어', '나', '아', '없', '음', '..', '최고', '.']\n\n['폴리스스토리', '시리즈', '1', '뉴', '최고']\n\n[('폴리스스토리', 'N'), ('시리즈', 'N'), ('는', 'J'), ('1', 'N'), ('부터', 'J'), ('뉴', 'N'), ('까지', 'J'), ('버리', 'P'), ('ㄹ께', 'E'), ('하', 'P'), ('어', 'E'), ('나', 'P'), ('아', 'E'), ('없', 'P'), ('음', 'E'), ('..', 'S'), ('최고', 'N'), ('.', 'S')]\n\n[[[('폴리스스토리', 'N')]], [[('시리즈', 'N'), ('는', 'J')]], [[('1', 'N'), ('부터', 'J')]], [[('뉴', 'N'), ('까지', 'J')]], [[('버리', 'P'), ('ㄹ께', 'E')]], [[('하', 'P'), ('어', 'E'), ('나', 'P'), ('아', 'E')]], [[('없', 'P'), ('음', 'E')]], [[('..', 'S')]], [], [[('최고', 'N')]], [[('.', 'S')]]]\n\n[('폴리스스토리', 'N'), ('시리즈', 'N'), ('는', 'J'), ('1', 'N'), ('부터', 'J'), ('뉴', 'N'), ('까지', 'J'), ('버리', 'P'), ('ㄹ께', 'E'), ('하', 'P'), ('어', 'E'), ('나', 'P'), ('아', 'E'), ('없', 'P'), ('음', 'E'), ('..', 'S'), ('최고', 'N'), ('.', 'S')]\n\n"
     ]
    },
    {
     "name": "stdout",
     "output_type": "stream",
     "text": [
      "[('폴리스스토리', 'NC'), ('시리즈', 'NC'), ('는', 'JX'), ('1', 'NN'), ('부터', 'JX'), ('뉴', 'NC'), ('까지', 'JX'), ('버리', 'PX'), ('ㄹ께', 'EF'), ('하', 'PV'), ('어', 'EC'), ('나', 'PX'), ('아', 'EC'), ('없', 'PA'), ('음', 'ET'), ('..', 'SF'), ('최고', 'NC'), ('.', 'SF')]\n"
     ]
    }
   ],
   "source": [
    "from konlpy.tag import Hannanum\n",
    "\n",
    "hannanum = Hannanum()\n",
    "\n",
    "print(sentence_list[2], end='\\n\\n')\n",
    "print(hannanum.morphs(sentence_list[2]), end='\\n\\n')\n",
    "print(hannanum.nouns(sentence_list[2]), end='\\n\\n')\n",
    "print(hannanum.pos(sentence_list[2]), end='\\n\\n')\n",
    "print(hannanum.pos(sentence_list[2], flatten=False), end='\\n\\n')\n",
    "print(hannanum.pos(sentence_list[2], ntags=9), end='\\n\\n')\n",
    "print(hannanum.pos(sentence_list[2], ntags=22))"
   ]
  },
  {
   "cell_type": "code",
   "execution_count": 9,
   "metadata": {},
   "outputs": [
    {
     "name": "stdout",
     "output_type": "stream",
     "text": [
      "폴리스스토리 시리즈는 1부터 뉴까지 버릴께 하나도 없음.. 최고.\n\n"
     ]
    },
    {
     "name": "stdout",
     "output_type": "stream",
     "text": [
      "['폴리스스토리', '시리즈', '는', '1', '부터', '뉴', '까지', '버릴께', '하나', '도', '없음', '..', '최고', '.']\n\n['폴리스스토리', '시리즈', '부터', '뉴', '하나', '최고']\n\n[('폴리스스토리', 'Noun'), ('시리즈', 'Noun'), ('는', 'Josa'), ('1', 'Number'), ('부터', 'Noun'), ('뉴', 'Noun'), ('까지', 'Josa'), ('버릴께', 'Verb'), ('하나', 'Noun'), ('도', 'Josa'), ('없음', 'Adjective'), ('..', 'Punctuation'), ('최고', 'Noun'), ('.', 'Punctuation')]\n\n[('너무', 'Adverb'), ('재밌어', 'Adjective'), ('ㅋㅋ', 'KoreanParticle')]\n\n[('너무', 'Adverb'), ('재밌엌', 'Noun'), ('ㅋㅋ', 'KoreanParticle')]\n\n[('너무', 'Adverb'), ('재밌다', 'Adjective'), ('ㅋㅋ', 'KoreanParticle')]\n"
     ]
    }
   ],
   "source": [
    "from konlpy.tag import Okt\n",
    "\n",
    "okt = Okt()\n",
    "\n",
    "print(sentence_list[2], end='\\n\\n')\n",
    "print(okt.morphs(sentence_list[2]), end='\\n\\n')\n",
    "print(okt.nouns(sentence_list[2]), end='\\n\\n')\n",
    "print(okt.pos(sentence_list[2]), end='\\n\\n')\n",
    "\n",
    "tmp_sample_text = '너무 재밌엌ㅋㅋ'\n",
    "print(okt.pos(tmp_sample_text, norm=True), end='\\n\\n')\n",
    "print(okt.pos(tmp_sample_text, stem=True), end='\\n\\n')\n",
    "print(okt.pos(tmp_sample_text, norm=True, stem=True))"
   ]
  },
  {
   "cell_type": "code",
   "execution_count": 11,
   "metadata": {},
   "outputs": [
    {
     "name": "stdout",
     "output_type": "stream",
     "text": [
      "폴리스스토리 시리즈는 1부터 뉴까지 버릴께 하나도 없음.. 최고.\n\n['폴리스', '스토리', '시리즈', '는', '1', '부터', '뉴', '까지', '버릴', '께', '하나', '도', '없', '음', '.', '.', '최고', '.']\n\n['폴리스', '스토리', '시리즈', '뉴', '께', '하나', '최고']\n\n[('폴리스', 'NNP'), ('스토리', 'NNG'), ('시리즈', 'NNG'), ('는', 'JX'), ('1', 'SN'), ('부터', 'JX'), ('뉴', 'NNG'), ('까지', 'JX'), ('버릴', 'VV+ETM'), ('께', 'NNB'), ('하나', 'NR'), ('도', 'JX'), ('없', 'VA'), ('음', 'ETN'), ('.', 'SF'), ('.', 'SY'), ('최고', 'NNG'), ('.', 'SF')]\n\n['폴리스/NNP', '스토리/NNG', '시리즈/NNG', '는/JX', '1/SN', '부터/JX', '뉴/NNG', '까지/JX', '버릴/VV+ETM', '께/NNB', '하나/NR', '도/JX', '없/VA', '음/ETN', './SF', './SY', '최고/NNG', './SF']\n"
     ]
    }
   ],
   "source": [
    "from konlpy.tag import Mecab\n",
    "\n",
    "mecab = Mecab()\n",
    "\n",
    "print(sentence_list[2], end='\\n\\n')\n",
    "print(mecab.morphs(sentence_list[2]), end='\\n\\n')\n",
    "print(mecab.nouns(sentence_list[2]), end='\\n\\n')\n",
    "print(mecab.pos(sentence_list[2]), end='\\n\\n')\n",
    "print(mecab.pos(sentence_list[2], join=True))"
   ]
  }
 ],
 "metadata": {
  "kernelspec": {
   "display_name": "Python 2",
   "language": "python",
   "name": "python2"
  },
  "language_info": {
   "codemirror_mode": {
    "name": "ipython",
    "version": 2
   },
   "file_extension": ".py",
   "mimetype": "text/x-python",
   "name": "python",
   "nbconvert_exporter": "python",
   "pygments_lexer": "ipython2",
   "version": "2.7.6"
  }
 },
 "nbformat": 4,
 "nbformat_minor": 0
}
