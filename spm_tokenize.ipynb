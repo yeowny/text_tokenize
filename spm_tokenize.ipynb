{
 "cells": [
  {
   "cell_type": "code",
   "execution_count": 1,
   "metadata": {
    "collapsed": true
   },
   "outputs": [
    {
     "name": "stdout",
     "output_type": "stream",
     "text": [
      "['어릴때보고 지금다시봐도 재밌어요ㅋㅋ'\n '디자인을 배우는 학생으로, 외국디자이너와 그들이 일군 전통을 통해 발전해가는 문화산업이 부러웠는데. 사실 우리나라에서도 그 어려운시절에 끝까지 열정을 지킨 노라노 같은 전통이있어 저와 같은 사람들이 꿈을 꾸고 이뤄나갈 수 있다는 것에 감사합니다.'\n '폴리스스토리 시리즈는 1부터 뉴까지 버릴께 하나도 없음.. 최고.'\n '와.. 연기가 진짜 개쩔구나.. 지루할거라고 생각했는데 몰입해서 봤다.. 그래 이런게 진짜 영화지'\n '안개 자욱한 밤하늘에 떠 있는 초승달 같은 영화.' '사랑을 해본사람이라면 처음부터 끝까지 웃을수 있는영화'\n '완전 감동입니다 다시봐도 감동' '개들의 전쟁2 나오나요? 나오면 1빠로 보고 싶음' '굿' '바보가 아니라 병 쉰 인듯']\n\n어릴때보고 지금다시봐도 재밌어요ㅋㅋ 디자인을 배우는 학생으로, 외국디자이너와 그들이 일군 전통을 통해 발전해가는 문화산업이 부러웠는데. 사실 우리나라에서도 그 어려운시절에 끝까지 열정을 지킨 노라노 같은 전통이있어 저와 같은 사람들이 꿈을 꾸고 이뤄나갈 수 있다는 것에 감사합니다. 폴리스스토리 시리즈는 1부터 뉴까지 버릴께 하나도 없음.. 최고. 와.. 연기가 진짜 개쩔구나.. 지루할거라고 생각했는데 몰입해서 봤다.. 그래 이런게 진짜 영화지 안개 자욱한 밤하늘에 떠 있는 초승달 같은 영화. 사랑을 해본사람이라면 처음부터 끝까지 웃을수 있는영화 완전 감동입니다 다시봐도 감동 개들의 전쟁2 나오나요? 나오면 1빠로 보고 싶음 굿 바보가 아니라 병 쉰 인듯 내 나이와 같은 영화를 지금 본 나는 감동적이다..하지만 훗날 다시보면대사하나하나 그 감정을완벽하게 이해할것만 같다... 재밌다 고질라니무 귀엽다능ㅋㅋ 영화의 오페라화라고 해야할 작품. 극단적 평갈림은 어쩔 수 없는 듯. 3도 반전 좋았제 ^^ 평점 왜 낮아? 긴장감 스릴감 진짜 최고인데 진짜 전장에서 느끼는 공포를 생생하게 전해준다. 네고시에이터랑 소재만 같을 뿐.. 아무런 관련없음.. 단연 최고 가면 갈수록 더욱 빠져드네요 밀회 화이팅!! 어?생각없이 봤는데 상당한 수작.일본영화 10년내 최고로 마음에 들었다.강렬한 임팩트가 일품. 오랜만에 본 제대로 된 범죄스릴러~ 그런 때가 있었다. ('사랑해'도 아니고) 그저 좋아한다는 한 마디 말을 꺼내기도 벅차서 밤 잠 설치던 때. 커징텅의 교복에 남은 션자이의 볼펜 자국 역시 미처 다 전하지 못한 마음의 형태인 거다. 마지막씬을 잊을수가 없다 강압적용서,세뇌적용서에 대한 비판 중세시대명작. 굿 평점이왜이래 7시간짜리 영상이 존재한다면, 죽기전에 꼭 한번 보고싶다. 아름답고 슬픈 OST, 제니퍼코넬리의 눈부신 아역시절, 로버트드니로의 마지막 웃는 장면까지 정말 가슴속에 영원히 기억될 최고의 명작이다. 사람이 어떻게 저런짓을 할 수가 있는지ㅡㅡ 보는 내가 다 화나더라\n"
     ]
    }
   ],
   "source": [
    "import pandas as pd\n",
    "\n",
    "nsmc_total_data = pd.read_csv('ratings.txt', sep='\\t')\n",
    "\n",
    "sample_text_data_list = nsmc_total_data['document'].dropna().values\n",
    "sample_text_data = ' '.join(sample_text_data_list)\n",
    "\n",
    "print(sample_text_data_list[:10], end='\\n\\n')\n",
    "print(sample_text_data[:1000])"
   ]
  },
  {
   "cell_type": "code",
   "execution_count": 5,
   "metadata": {},
   "outputs": [
    {
     "name": "stdout",
     "output_type": "stream",
     "text": [
      "폴리스스토리 시리즈는 1부터 뉴까지 버릴께 하나도 없음.. 최고.\n"
     ]
    }
   ],
   "source": [
    "from nltk.tokenize import sent_tokenize\n",
    "\n",
    "sentence_list = sent_tokenize(sample_text_data)\n",
    "sample_text = '\\n'.join(sentence_list)\n",
    "\n",
    "print(sentence_list[2])"
   ]
  },
  {
   "cell_type": "code",
   "execution_count": 11,
   "metadata": {},
   "outputs": [
    {
     "name": "stdout",
     "output_type": "stream",
     "text": [
      "txt file saved\n"
     ]
    }
   ],
   "source": [
    "input_file_name = 'spm_test_data.txt'\n",
    "with open(input_file_name, 'w') as f:\n",
    "    f.write(sample_text)\n",
    "\n",
    "print('txt file saved')"
   ]
  },
  {
   "cell_type": "code",
   "execution_count": 15,
   "metadata": {},
   "outputs": [
    {
     "data": {
      "text/plain": [
       "True"
      ]
     },
     "execution_count": 15,
     "metadata": {},
     "output_type": "execute_result"
    }
   ],
   "source": [
    "import sentencepiece as spm\n",
    "\n",
    "templates = '--input={} --model_prefix={} --vocab_size={} --control_symbols=[CLS],[SEP] --user_defined_symbols=[MASK]' \\\n",
    "            '--pad_id=0 --bos_id=1 --eos_id=2 --unk_id=3'\n",
    "\n",
    "vocab_size = 10000\n",
    "prefix = 'spm_test_model'\n",
    "cmd = templates.format(input_file_name, prefix, vocab_size)\n",
    "spm.SentencePieceTrainer.Train(cmd)"
   ]
  },
  {
   "cell_type": "code",
   "execution_count": 18,
   "metadata": {},
   "outputs": [
    {
     "name": "stdout",
     "output_type": "stream",
     "text": [
      "-1\n1\n2\n3\n폴리스스토리 시리즈는 1부터 뉴까지 버릴께 하나도 없음.. 최고.\n['▁폴', '리스', '스토리', '▁시리즈는', '▁1', '부터', '▁뉴', '까지', '▁', '버릴', '께', '▁하나도', '▁없음', '..', '▁최고', '.']\n[4274, 2044, 712, 4908, 56, 281, 6827, 118, 7, 3912, 1267, 869, 665, 8, 121, 6]\n10\n▁영화\n"
     ]
    }
   ],
   "source": [
    "sp = spm.SentencePieceProcessor()\n",
    "sp.load('%s.model' % prefix)\n",
    "\n",
    "print(sp.pad_id())\n",
    "print(sp.bos_id())\n",
    "print(sp.eos_id())\n",
    "print(sp.unk_id())\n",
    "\n",
    "print(sentence_list[2])\n",
    "print(sp.EncodeAsPieces(sentence_list[2]))\n",
    "print(sp.EncodeAsIds(sentence_list[2]))\n",
    "print(sp.PieceToId('▁영화'))\n",
    "print(sp.IdToPiece(10))"
   ]
  },
  {
   "cell_type": "code",
   "execution_count": 19,
   "metadata": {},
   "outputs": [
    {
     "name": "stdout",
     "output_type": "stream",
     "text": [
      "10000\n['[CLS]\\t0',\n '<s>\\t0',\n '</s>\\t0',\n '<unk>\\t0',\n '[SEP]\\t0',\n '[MASK]--pad_id=0\\t0',\n '.\\t-3.43463',\n '▁\\t-3.43908',\n '..\\t-4.35754',\n '이\\t-4.49241',\n '▁영화\\t-4.56963',\n '...\\t-4.59297',\n '의\\t-4.73034',\n '가\\t-4.7453',\n '도\\t-4.776',\n '는\\t-4.85861',\n ',\\t-4.8834',\n '을\\t-5.0153',\n '에\\t-5.10031',\n '고\\t-5.18093']\n"
     ]
    }
   ],
   "source": [
    "from pprint import pprint\n",
    "\n",
    "with open('%s.vocab' % prefix, 'r') as f:\n",
    "    vocab_list = [xx.strip() for xx in f]\n",
    "\n",
    "print(len(vocab_list))\n",
    "\n",
    "pprint(vocab_list[:20])"
   ]
  }
 ],
 "metadata": {
  "kernelspec": {
   "display_name": "Python 2",
   "language": "python",
   "name": "python2"
  },
  "language_info": {
   "codemirror_mode": {
    "name": "ipython",
    "version": 2
   },
   "file_extension": ".py",
   "mimetype": "text/x-python",
   "name": "python",
   "nbconvert_exporter": "python",
   "pygments_lexer": "ipython2",
   "version": "2.7.6"
  }
 },
 "nbformat": 4,
 "nbformat_minor": 0
}
