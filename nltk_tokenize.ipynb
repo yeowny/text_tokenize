{
 "cells": [
  {
   "cell_type": "code",
   "execution_count": 6,
   "metadata": {},
   "outputs": [
    {
     "name": "stdout",
     "output_type": "stream",
     "text": [
      "[The King James Bible]\nThe Old Testament of the King James Bible\nThe First Book of Moses:  Called Genesis\n 1:1 In the beginning God created the heaven and the earth.\n1:2 And the earth was without form, and void; and darkness was upon the face of the deep. And the Spirit of God moved upon the face of the waters.\n1:3 And God said, Let there be light: and there was light.\n1:4 And God saw the light, that it was good: and God divided the light from the darkness.\n1:5 And God called the light Day, and the darkness he called Night. And the evening and the morning were the first day.\n1:6 And God said, Let there be a firmament in the midst of the waters, and let it divide the waters from the waters.\n1:7 And God made the firmament, and divided the waters which were under the firmament from the waters which were above the firmament: and it was so.\n1:8 And God called the firmament Heaven. And the evening and the morning were the second day.\n1:9 And God said, Let the waters under the heaven be gathe\n"
     ]
    }
   ],
   "source": [
    "import nltk, re\n",
    "\n",
    "# nltk.download()\n",
    "\n",
    "sample_text_data = nltk.corpus.gutenberg.raw('bible-kjv.txt')\n",
    "sample_text = re.sub('\\n\\n', '<enter>', sample_text_data)\n",
    "sample_text = re.sub('\\n', ' ', sample_text)\n",
    "sample_text = re.sub('<enter>', '\\n', sample_text)\n",
    "\n",
    "print(sample_text[:1000])"
   ]
  },
  {
   "cell_type": "code",
   "execution_count": 38,
   "metadata": {},
   "outputs": [
    {
     "name": "stdout",
     "output_type": "stream",
     "text": [
      "['[The King James Bible]\\nThe Old Testament of the King James Bible\\nThe First Book of Moses:  Called Genesis\\n 1:1 In the beginning God created the heaven and the earth.', '1:2 And the earth was without form, and void; and darkness was upon the face of the deep.', 'And the Spirit of God moved upon the face of the waters.', '1:3 And God said, Let there be light: and there was light.', '1:4 And God saw the light, that it was good: and God divided the light from the darkness.', '1:5 And God called the light Day, and the darkness he called Night.', 'And the evening and the morning were the first day.', '1:6 And God said, Let there be a firmament in the midst of the waters, and let it divide the waters from the waters.', '1:7 And God made the firmament, and divided the waters which were under the firmament from the waters which were above the firmament: and it was so.', '1:8 And God called the firmament Heaven.']\n\n['[', 'The', 'King', 'James', 'Bible', ']', 'The', 'Old', 'Testament', 'of', 'the', 'King', 'James', 'Bible', 'The', 'First', 'Book', 'of', 'Moses', ':', 'Called', 'Genesis', '1:1', 'In', 'the', 'beginning', 'God', 'created', 'the', 'heaven', 'and', 'the', 'earth', '.']\n\n['The', 'King', 'James', 'Bible', 'The', 'Old', 'Testament', 'of', 'the', 'King', 'James', 'Bible', 'The', 'First', 'Book', 'of', 'Moses', 'Called', 'Genesis', '1', '1', 'In', 'the', 'beginning', 'God', 'created', 'the', 'heaven', 'and', 'the', 'earth']\n\n['The', 'King', 'James', 'Bible', 'The', 'Old', 'Testament', 'of', 'the', 'King', 'James', 'Bible', 'The', 'First', 'Book', 'of', 'Moses', 'Called', 'Genesis', '1', '1', 'In', 'the', 'beginning', 'God', 'created', 'the', 'heaven', 'and', 'the', 'earth', '1', '2', 'And', 'the', 'earth', 'was', 'without', 'form', 'and', 'void', 'and', 'darkness', 'was', 'upon', 'the', 'face', 'of', 'the', 'deep', 'And', 'the', 'Spirit', 'of', 'God', 'moved', 'upon', 'the', 'face', 'of', 'the', 'waters', '1', '3', 'And', 'God', 'said', 'Let', 'there', 'be', 'light', 'and', 'there', 'was', 'light', '1', '4', 'And', 'God', 'saw', 'the', 'light', 'that', 'it', 'was', 'good', 'and', 'God', 'divided', 'the', 'light', 'from', 'the', 'darkness', '1', '5', 'And', 'God', 'called', 'the']\n"
     ]
    }
   ],
   "source": [
    "from nltk.tokenize import sent_tokenize, word_tokenize, RegexpTokenizer, regexp_tokenize\n",
    "\n",
    "sentence_list = sent_tokenize(sample_text)\n",
    "print(sentence_list[:10], end='\\n\\n')\n",
    "\n",
    "pattern = '[\\w]+'\n",
    "print(word_tokenize(sentence_list[0]), end='\\n\\n')\n",
    "print(RegexpTokenizer(pattern).tokenize(sentence_list[0]), end='\\n\\n')\n",
    "\n",
    "tokens_data = regexp_tokenize(sample_text, pattern)\n",
    "print(tokens_data[:100])"
   ]
  },
  {
   "cell_type": "code",
   "execution_count": 41,
   "metadata": {},
   "outputs": [
    {
     "name": "stdout",
     "output_type": "stream",
     "text": [
      "854046\n13746\n"
     ]
    },
    {
     "data": {
      "text/plain": [
       "FreqDist({'the': 62103, 'and': 38847, 'of': 34480, 'to': 13396, 'And': 12846, 'that': 12576, 'in': 12331, 'shall': 9760, 'he': 9665, 'unto': 8940, ...})"
      ]
     },
     "execution_count": 41,
     "metadata": {},
     "output_type": "execute_result"
    }
   ],
   "source": [
    "nltk_en = nltk.Text(tokens_data)\n",
    "\n",
    "print(len(nltk_en.tokens))\n",
    "print(len(set(nltk_en.tokens)))\n",
    "nltk_en.vocab()"
   ]
  },
  {
   "cell_type": "code",
   "execution_count": 22,
   "metadata": {},
   "outputs": [
    {
     "name": "stdout",
     "output_type": "stream",
     "text": [
      "['[', 'The', 'King', 'James', 'Bible', ']', 'The', 'Old', 'Testament', 'of', 'the', 'King', 'James', 'Bible', 'The', 'First', 'Book', 'of', 'Moses', ':', 'Called', 'Genesis', '1:1', 'In', 'the', 'beginning', 'God', 'created', 'the', 'heaven', 'and', 'the', 'earth', '.']\n\n['The', 'King', 'James', 'Bible', 'The', 'Old', 'Testament', 'King', 'James', 'Bible', 'The', 'First', 'Book', 'Moses', 'Called', 'Genesis', '1', '1', 'In', 'beginning', 'God', 'created', 'heaven', 'earth']\n"
     ]
    }
   ],
   "source": [
    "en_stopword = nltk.corpus.stopwords.words('english')\n",
    "\n",
    "print(word_tokenize(sentence_list[0]), end='\\n\\n')\n",
    "print([xx for xx in RegexpTokenizer(pattern).tokenize(sentence_list[0]) if xx not in en_stopword])"
   ]
  },
  {
   "cell_type": "code",
   "execution_count": 16,
   "metadata": {},
   "outputs": [
    {
     "name": "stdout",
     "output_type": "stream",
     "text": [
      "[('The', 'DT'), ('King', 'NNP'), ('James', 'NNP'), ('Bible', 'NNP'), ('The', 'DT'), ('Old', 'NNP'), ('Testament', 'NNP'), ('of', 'IN'), ('the', 'DT'), ('King', 'NNP'), ('James', 'NNP'), ('Bible', 'NNP'), ('The', 'DT'), ('First', 'NNP'), ('Book', 'NNP'), ('of', 'IN'), ('Moses', 'NNP'), ('Called', 'NNP'), ('Genesis', 'NNP'), ('1', 'CD'), ('1', 'CD'), ('In', 'IN'), ('the', 'DT'), ('beginning', 'NN'), ('God', 'NNP'), ('created', 'VBD'), ('the', 'DT'), ('heaven', 'NN'), ('and', 'CC'), ('the', 'DT'), ('earth', 'NN')]\n\nNNS: noun, common, plural\n    undergraduates scotches bric-a-brac products bodyguards facets coasts\n    divestitures storehouses designs clubs fragrances averages\n    subjectivists apprehensions muses factory-jobs ...\nNone\n"
     ]
    }
   ],
   "source": [
    "from nltk.tag import pos_tag\n",
    "\n",
    "print(pos_tag(RegexpTokenizer('[\\w]+').tokenize(sentence_list[0])), end='\\n\\n')\n",
    "\n",
    "print(nltk.help.upenn_tagset('NNS'))"
   ]
  },
  {
   "cell_type": "code",
   "execution_count": 17,
   "metadata": {},
   "outputs": [
    {
     "name": "stdout",
     "output_type": "stream",
     "text": [
      "['fli', 'fli', 'fli', 'flew', 'flown']\n['fly', 'fli', 'fly', 'flew', 'flown']\n"
     ]
    },
    {
     "name": "stdout",
     "output_type": "stream",
     "text": [
      "['fly', 'fly', 'fly', 'fly', 'fly']\n"
     ]
    }
   ],
   "source": [
    "from nltk.stem import PorterStemmer, LancasterStemmer, WordNetLemmatizer\n",
    "\n",
    "sample_stem_words = ['fly', 'flies', 'flying', 'flew', 'flown']\n",
    "print([PorterStemmer().stem(xx) for xx in sample_stem_words])\n",
    "print([LancasterStemmer().stem(xx) for xx in sample_stem_words])\n",
    "print([WordNetLemmatizer().lemmatize(xx, pos='v') for xx in sample_stem_words])"
   ]
  },
  {
   "cell_type": "code",
   "execution_count": 24,
   "metadata": {},
   "outputs": [
    {
     "name": "stdout",
     "output_type": "stream",
     "text": [
      "476079\n4115\n0.008643523448839374\n[('And', 12846), ('shall', 9760), ('unto', 8940), ('I', 8854), ('LORD', 6651), ('thou', 4890)]\n"
     ]
    }
   ],
   "source": [
    "token_freq = nltk.FreqDist([xx for xx in RegexpTokenizer('[\\w]+').tokenize(sample_text) if xx not in en_stopword])\n",
    "\n",
    "print(token_freq.N())\n",
    "print(token_freq['God'])\n",
    "print(token_freq.freq('God'))\n",
    "\n",
    "print(token_freq.most_common(6))"
   ]
  },
  {
   "cell_type": "code",
   "execution_count": 27,
   "metadata": {},
   "outputs": [
    {
     "data": {
      "image/png": "[encoded data removed]",
      "text/plain": [
       "<Figure size 432x288 with 1 Axes>"
      ]
     },
     "metadata": {},
     "output_type": "display_data"
    },
    {
     "data": {
      "image/png": "[encoded data removed]",
      "text/plain": [
       "<Figure size 432x288 with 1 Axes>"
      ]
     },
     "metadata": {},
     "output_type": "display_data"
    }
   ],
   "source": [
    "import matplotlib.pyplot as plt\n",
    "\n",
    "nltk_text = nltk.Text(RegexpTokenizer('[\\w]+').tokenize(sample_text))\n",
    "nltk_text.plot(10)\n",
    "plt.show()\n",
    "\n",
    "nltk_text.dispersion_plot(['God', 'firmament'])"
   ]
  },
  {
   "cell_type": "code",
   "execution_count": 28,
   "metadata": {},
   "outputs": [
    {
     "name": "stdout",
     "output_type": "stream",
     "text": [
      "Displaying 25 of 4472 matches:\ns Called Genesis 1 1 In the beginning God created the heaven and the earth 1 2 \nhe face of the deep And the Spirit of God moved upon the face of the waters 1 3\nd upon the face of the waters 1 3 And God said Let there be light and there was\n be light and there was light 1 4 And God saw the light that it was good and Go\nod saw the light that it was good and God divided the light from the darkness 1\nd the light from the darkness 1 5 And God called the light Day and the darkness\nhe morning were the first day 1 6 And God said Let there be a firmament in the \nde the waters from the waters 1 7 And God made the firmament and divided the wa\ne the firmament and it was so 1 8 And God called the firmament Heaven And the e\ne morning were the second day 1 9 And God said Let the waters under the heaven \nry land appear and it was so 1 10 And God called the dry land Earth and the gat\nther of the waters called he Seas and God saw that it was good 1 11 And God sai\nand God saw that it was good 1 11 And God said Let the earth bring forth grass \nseed was in itself after his kind and God saw that it was good 1 13 And the eve\ne morning were the third day 1 14 And God said Let there be lights in the firma\nupon the earth and it was so 1 16 And God made two great lights the greater lig\nnight he made the stars also 1 17 And God set them in the firmament of the heav\nivide the light from the darkness and God saw that it was good 1 19 And the eve\n morning were the fourth day 1 20 And God said Let the waters bring forth abund\nthe open firmament of heaven 1 21 And God created great whales and every living\n every winged fowl after his kind and God saw that it was good 1 22 And God ble\nand God saw that it was good 1 22 And God blessed them saying Be fruitful and m\ne morning were the fifth day 1 24 And God said Let the earth bring forth the li\nafter his kind and it was so 1 25 And God made the beast of the earth after his\neth upon the earth after his kind and God saw that it was good 1 26 And God sai\nNone\n"
     ]
    }
   ],
   "source": [
    "print(nltk_text.concordance('God'))"
   ]
  },
  {
   "cell_type": "code",
   "execution_count": 29,
   "metadata": {},
   "outputs": [
    {
     "name": "stdout",
     "output_type": "stream",
     "text": [
      "them him it he israel thee me you and man david judah us i people\nfather jerusalem men that lord\nNone\n"
     ]
    }
   ],
   "source": [
    "print(nltk_text.similar('God'))"
   ]
  },
  {
   "cell_type": "code",
   "execution_count": 30,
   "metadata": {},
   "outputs": [
    {
     "name": "stdout",
     "output_type": "stream",
     "text": [
      "the_of a_in the_that the_and\nNone\n"
     ]
    }
   ],
   "source": [
    "print(nltk_text.common_contexts(['God', 'firmament']))"
   ]
  }
 ],
 "metadata": {
  "kernelspec": {
   "display_name": "Python 2",
   "language": "python",
   "name": "python2"
  },
  "language_info": {
   "codemirror_mode": {
    "name": "ipython",
    "version": 2
   },
   "file_extension": ".py",
   "mimetype": "text/x-python",
   "name": "python",
   "nbconvert_exporter": "python",
   "pygments_lexer": "ipython2",
   "version": "2.7.6"
  }
 },
 "nbformat": 4,
 "nbformat_minor": 0
}
